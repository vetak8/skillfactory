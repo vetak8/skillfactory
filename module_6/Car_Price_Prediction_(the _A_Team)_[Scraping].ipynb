{
 "cells": [
  {
   "cell_type": "code",
   "execution_count": 1,
   "metadata": {},
   "outputs": [],
   "source": [
    "import pandas as pd\n",
    "import requests, json\n",
    "import numpy as np\n",
    "import time"
   ]
  },
  {
   "cell_type": "markdown",
   "metadata": {},
   "source": [
    "# Connection Lost"
   ]
  },
  {
   "cell_type": "code",
   "execution_count": 2,
   "metadata": {},
   "outputs": [
    {
     "name": "stdout",
     "output_type": "stream",
     "text": [
      "{'Host': 'auto.ru', 'User-Agent': 'Mozilla/5.0 (Windows NT 10.0; Win64; x64; rv:88.0) Gecko/20100101 Firefox/88.0', 'Accept': '*/*', 'Accept-Language': 'ru-RU,ru;q=0.8,en-US;q=0.5,en;q=0.3', 'Accept-Encoding': 'gzip, deflate, br', 'Referer': 'https://auto.ru/cars/bmw/all/?page=3', 'x-client-app-version': 'bce8a8244b5', 'x-page-request-id': '328918ce0247597eaf5327bfb58fbbf0', 'x-client-date': '1621052424675', 'x-csrf-token': '46e8e9805b1aaeb0e7e8ed06e9e61db609f825f0374f514d', 'x-requested-with': 'fetch', 'content-type': 'application/json', 'Origin': 'https://auto.ru', 'Content-Length': '78', 'Connection': 'keep-alive', 'Cookie': 'autoru_sid=a%3Ag609e770a22hv5h9nuukn7hehqvu3kep.f63513a378b5f5c6208d35b64697caa2%7C1620997898875.604800.wyDgKeg1mlEd3UgRUP-bJA.67jb8JxaCRrLGKWbo9PTOIBxTdPMTL7-ErqZR1uTZ90; autoruuid=g609e770a22hv5h9nuukn7hehqvu3kep.f63513a378b5f5c6208d35b64697caa2; autoru_gdpr=1; suid=c18f94687848ae634a3e33b24dec6d0a.4fc40ee98cea6dd87fe788cb17ac994d; yuidlt=1; yandexuid=3854193761620997913; counter_ga_all7=2; crookie=An+ejc3GId86JbaHno+3yDpWbPhSpPl+/G5iLmug8RDpM4VJDMjLzHii5iDi/5MZT+TrlHvnUdD/Khj0WeuIogIWnpE=; cmtchd=MTYyMDk5NzkyNzY0NA==; _ym_uid=162099793885069073; _ym_d=1621052333; _ym_isad=2; cycada=1+Z/guXKzEVROtphAKfMJ/7TQUH18nTGnu0U0PuR/rk=; _ga=GA1.2.1678141264.1620998016; _gid=GA1.2.1513849119.1620998016; parts_ur=; _csrf_token=46e8e9805b1aaeb0e7e8ed06e9e61db609f825f0374f514d; from_lifetime=1621052333763; from=direct; X-Vertis-DC=vla; gdpr=0', 'Pragma': 'no-cache', 'Cache-Control': 'no-cache'}\n"
     ]
    }
   ],
   "source": [
    "# Make a header for the request\n",
    "# Header has been copied from Mozila - Network - Requests - POST - json\n",
    "headers = '''\n",
    "Host: auto.ru\n",
    "User-Agent: Mozilla/5.0 (Windows NT 10.0; Win64; x64; rv:88.0) Gecko/20100101 Firefox/88.0\n",
    "Accept: */*\n",
    "Accept-Language: ru-RU,ru;q=0.8,en-US;q=0.5,en;q=0.3\n",
    "Accept-Encoding: gzip, deflate, br\n",
    "Referer: https://auto.ru/cars/bmw/all/?page=3\n",
    "x-client-app-version: bce8a8244b5\n",
    "x-page-request-id: 328918ce0247597eaf5327bfb58fbbf0\n",
    "x-client-date: 1621052424675\n",
    "x-csrf-token: 46e8e9805b1aaeb0e7e8ed06e9e61db609f825f0374f514d\n",
    "x-requested-with: fetch\n",
    "content-type: application/json\n",
    "Origin: https://auto.ru\n",
    "Content-Length: 78\n",
    "Connection: keep-alive\n",
    "Cookie: autoru_sid=a%3Ag609e770a22hv5h9nuukn7hehqvu3kep.f63513a378b5f5c6208d35b64697caa2%7C1620997898875.604800.wyDgKeg1mlEd3UgRUP-bJA.67jb8JxaCRrLGKWbo9PTOIBxTdPMTL7-ErqZR1uTZ90; autoruuid=g609e770a22hv5h9nuukn7hehqvu3kep.f63513a378b5f5c6208d35b64697caa2; autoru_gdpr=1; suid=c18f94687848ae634a3e33b24dec6d0a.4fc40ee98cea6dd87fe788cb17ac994d; yuidlt=1; yandexuid=3854193761620997913; counter_ga_all7=2; crookie=An+ejc3GId86JbaHno+3yDpWbPhSpPl+/G5iLmug8RDpM4VJDMjLzHii5iDi/5MZT+TrlHvnUdD/Khj0WeuIogIWnpE=; cmtchd=MTYyMDk5NzkyNzY0NA==; _ym_uid=162099793885069073; _ym_d=1621052333; _ym_isad=2; cycada=1+Z/guXKzEVROtphAKfMJ/7TQUH18nTGnu0U0PuR/rk=; _ga=GA1.2.1678141264.1620998016; _gid=GA1.2.1513849119.1620998016; parts_ur=; _csrf_token=46e8e9805b1aaeb0e7e8ed06e9e61db609f825f0374f514d; from_lifetime=1621052333763; from=direct; X-Vertis-DC=vla; gdpr=0\n",
    "Pragma: no-cache\n",
    "Cache-Control: no-cache\n",
    "'''.strip().split(\"\\n\")\n",
    "\n",
    "# Convert request to dictionary\n",
    "dict_header = {}\n",
    "for header in headers:\n",
    "    key, value = header.split(': ')\n",
    "    dict_header[key] = value\n",
    "print(dict_header)"
   ]
  },
  {
   "cell_type": "code",
   "execution_count": 3,
   "metadata": {},
   "outputs": [],
   "source": [
    "# Address where is a json file with all AD\n",
    "url = \"https://auto.ru/-/ajax/desktop/listing/\""
   ]
  },
  {
   "cell_type": "code",
   "execution_count": 4,
   "metadata": {},
   "outputs": [],
   "source": [
    "# Specify brands to be scraped\n",
    "brand_list = ['BMW',\n",
    "              'VOLKSWAGEN',\n",
    "              'NISSAN',\n",
    "              'MERCEDES',\n",
    "              'TOYOTA',\n",
    "              'AUDI',\n",
    "              'MITSUBISHI',\n",
    "              'SKODA',\n",
    "              'VOLVO',\n",
    "              'HONDA',\n",
    "              'INFINITI',\n",
    "              'LEXUS',\n",
    "              'FORD',\n",
    "              'KIA',\n",
    "              'HYUNDAI',\n",
    "              'MAZDA',\n",
    "              'RENO',\n",
    "              'Peugeot'\n",
    "]"
   ]
  },
  {
   "cell_type": "code",
   "execution_count": 5,
   "metadata": {},
   "outputs": [],
   "source": [
    "# Make sraper\n",
    "def parser_v2(model, page_range):\n",
    "    #Here we save all offers from each page\n",
    "    offers = []\n",
    "    # Break our search by years \n",
    "    # (Auto.ru displayed max 100 pages. so Use years to gather more AD)\n",
    "    years = [1900, 2000, 2010, 2020, 2021]\n",
    "    end_year = 2000\n",
    "    for start_year in years:\n",
    "        try:\n",
    "            for x in range(1, page_range):\n",
    "                # For safety add freeze time (avoid to be banned)\n",
    "                time.sleep(.2)\n",
    "                param = {\n",
    "                    \"color\": [\n",
    "                        \"FFD600\", \"660099\", \"DEA522\", \"007F00\", \"040001\",\n",
    "                        \"C49648\", \"CACECB\", \"EE1D19\", \"0000CC\", \"22A0F8\",\n",
    "                        \"FFC0CB\", \"4A2197\", \"FF8649\", \"200204\", \"97948F\",\n",
    "                        \"FAFBFB\"\n",
    "                    ],\n",
    "                    \"year_from\":\n",
    "                    start_year,\n",
    "                    \"year_to\":\n",
    "                    end_year,\n",
    "                    \"catalog_filter\": [{\n",
    "                        \"mark\": model\n",
    "                    }],\n",
    "                    \"damage_group\":\n",
    "                    \"ANY\",\n",
    "                    'sort':\n",
    "                    \"fresh_relevance_1-desc\",\n",
    "                    \"top_days\":\n",
    "                    \"900\",\n",
    "                    \"customs_state_group\":\n",
    "                    \"DOESNT_MATTER\",\n",
    "                    \"section\":\n",
    "                    \"all\",\n",
    "                    \"category\":\n",
    "                    \"cars\",\n",
    "                    \"page\":\n",
    "                    x\n",
    "                }\n",
    "\n",
    "                response = requests.post(url, json=param,\n",
    "                                         headers=dict_header)  # steal json\n",
    "                print(response.status_code)  # Print request status\n",
    "                data = response.json()  # extract what we stolen :)\n",
    "                # Take only cars offers. Avoid taking trash\n",
    "                offers.extend(data['offers'])\n",
    "                print(f'Current_page: {x}')  # current page No.\n",
    "                print(start_year, end_year)\n",
    "        except:\n",
    "            print('Fail')\n",
    "        if end_year >= 2020:\n",
    "            end_year = 2021\n",
    "        else:\n",
    "            end_year += 10\n",
    "    with open(f'data_{model}.json', 'w') as f:\n",
    "        json.dump(offers, f)\n",
    "    print(f'File \"data_{model}\" is ready')"
   ]
  },
  {
   "cell_type": "code",
   "execution_count": null,
   "metadata": {
    "scrolled": true
   },
   "outputs": [],
   "source": [
    " # Run it\n",
    "for i in brand_list:\n",
    "    parser_v2(i,100)"
   ]
  },
  {
   "cell_type": "code",
   "execution_count": 7,
   "metadata": {},
   "outputs": [],
   "source": [
    "# Create cols name(same as in test data)\n",
    "cols = [\n",
    "    'bodyType', 'brand', 'car_url', 'color', 'complectation_dict',\n",
    "    'description', 'engineDisplacement', 'enginePower', 'equipment_dict',\n",
    "    'fuelType', 'image', 'mileage', 'modelDate', 'model_info', 'model_name',\n",
    "    'name', 'numberOfDoors', 'parsing_unixtime', 'priceCurrency',\n",
    "    'productionDate', 'sell_id', 'super_gen', 'vehicleConfiguration',\n",
    "    'vehicleTransmission', 'vendor', 'Владельцы', 'Владение', 'ПТС', 'Привод',\n",
    "    'Руль', 'Состояние', 'Таможня', 'price'\n",
    "]  "
   ]
  },
  {
   "cell_type": "code",
   "execution_count": 8,
   "metadata": {},
   "outputs": [],
   "source": [
    "def get_df(parsed_json):\n",
    "    '''Function is called to extract data from Json and convert to Pandas data frame'''\n",
    "    df = pd.DataFrame(data=None, columns=cols, index=range(len(parsed_json)))\n",
    "    NaN = np.nan\n",
    "    for i, vehicle in enumerate(parsed_json):\n",
    "        try:\n",
    "            df.loc[i]['color'] = vehicle['color_hex']\n",
    "        except:\n",
    "            df.loc[i]['color'] = NaN\n",
    "        try:\n",
    "            df.loc[i].brand = vehicle['vehicle_info']['mark_info']['name']\n",
    "        except:\n",
    "            df.loc[i].brand = NaN\n",
    "        try:\n",
    "            df.loc[i].complectation_dict = vehicle['vehicle_info'][\n",
    "                'complectation']\n",
    "        except:\n",
    "            df.loc[i].complectation_dict = NaN\n",
    "        try:\n",
    "            df.loc[i].engineDisplacement = vehicle['vehicle_info'][\n",
    "                'tech_param']['displacement']\n",
    "        except:\n",
    "            df.loc[i].engineDisplacement = NaN\n",
    "        try:\n",
    "            df.loc[i].enginePower = vehicle['vehicle_info']['tech_param'][\n",
    "                'power']\n",
    "        except:\n",
    "            df.loc[i].enginePower = NaN\n",
    "        try:\n",
    "            df.loc[i].equipment_dict = vehicle['vehicle_info']['equipment']\n",
    "        except:\n",
    "            df.loc[i].equipment_dict = NaN\n",
    "        try:\n",
    "            df.loc[i].fuelType = vehicle['lk_summary'].split(',')[-1]\n",
    "        except:\n",
    "            df.loc[i].fuelType = NaN\n",
    "        try:\n",
    "            df.loc[i].image = vehicle['state']['image_urls'][0]['sizes'][\n",
    "                '1200x900n']\n",
    "        except:\n",
    "            df.loc[i].image = NaN\n",
    "        try:\n",
    "            df.loc[i].mileage = vehicle['state']['mileage']\n",
    "        except:\n",
    "            df.loc[i].mileage = NaN\n",
    "        try:\n",
    "            df.loc[i].modelDate = vehicle['vehicle_info']['super_gen'][\n",
    "                'year_from']\n",
    "        except:\n",
    "            df.loc[i].modelDate = NaN\n",
    "        try:\n",
    "            df.loc[i].model_info = vehicle['vehicle_info']['model_info']\n",
    "        except:\n",
    "            df.loc[i].model_info = NaN\n",
    "        try:\n",
    "            df.loc[i].model_name = vehicle['vehicle_info']['model_info'][\n",
    "                'code']\n",
    "        except:\n",
    "            df.loc[i].model_name = NaN\n",
    "        try:\n",
    "            df.loc[i]['name'] = vehicle['vehicle_info']['tech_param'][\n",
    "                'human_name']\n",
    "#             df.loc[i]['name'] = vehicle['lk_summary']  # !!!!!!!!!!!!!!!!!!!\n",
    "        except:\n",
    "            df.loc[i]['name'] = NaN\n",
    "        try:\n",
    "            df.loc[i].numberOfDoors = vehicle['vehicle_info']['configuration'][\n",
    "                'doors_count']\n",
    "        except:\n",
    "            df.loc[i].numberOfDoors = NaN\n",
    "        try:\n",
    "            df.loc[i].parsing_unixtime = 'today'\n",
    "        except:\n",
    "            df.loc[i].parsing_unixtime = NaN\n",
    "        try:\n",
    "            df.loc[i].productionDate = vehicle['documents']['year']\n",
    "        except:\n",
    "            df.loc[i].productionDate = NaN\n",
    "        try:\n",
    "            df.loc[i].sell_id = vehicle['id']\n",
    "        except:\n",
    "            df.loc[i].sell_id = NaN\n",
    "        try:\n",
    "            df.loc[i].super_gen = vehicle['vehicle_info']['tech_param']  #!!!\n",
    "        except:\n",
    "            df.loc[i].super_gen = NaN\n",
    "        try:\n",
    "            df.loc[i].vehicleConfiguration = 'useless_col'\n",
    "        except:\n",
    "            df.loc[i].vehicleConfiguration = NaN\n",
    "        try:\n",
    "            df.loc[i].vehicleTransmission = vehicle['vehicle_info'][\n",
    "                'tech_param']['transmission']\n",
    "        except:\n",
    "            df.loc[i].vehicleTransmission = NaN\n",
    "        try:\n",
    "            df.loc[i].vendor = vehicle['vehicle_info']['vendor']\n",
    "        except:\n",
    "            df.loc[i].vendor = NaN\n",
    "        try:\n",
    "            df.loc[i].Владение = vehicle['documents']['purchase_date']  #!!!\n",
    "        except:\n",
    "            df.loc[i].Владение = NaN\n",
    "        try:\n",
    "            df.loc[i].Привод = vehicle['lk_summary'].split(',')[2]\n",
    "        except:\n",
    "            df.loc[i].Привод = NaN\n",
    "        try:\n",
    "            df.loc[i].Состояние = vehicle['state']['state_not_beaten']\n",
    "        except:\n",
    "            df.loc[i].Состояние = NaN\n",
    "        try:\n",
    "            df.loc[i].Таможня = vehicle['documents']['custom_cleared']\n",
    "        except:\n",
    "            df.loc[i].Таможня = NaN\n",
    "\n",
    "\n",
    "#         try:\n",
    "#             df.loc[i].price_segment = vehicle['vehicle_info']['super_gen']['price_segment']\n",
    "#         except:\n",
    "#             df.loc[i].price_segmen = NaN\n",
    "        try:\n",
    "            df.loc[i].bodyType = vehicle['vehicle_info']['configuration'][\n",
    "                'human_name']\n",
    "        except:\n",
    "            df.loc[i].bodyType = NaN\n",
    "        try:\n",
    "            df.loc[i].description = vehicle['description']\n",
    "        except:\n",
    "            df.loc[i].description = NaN\n",
    "        try:\n",
    "            df.loc[i].Владельцы = vehicle['documents']['owners_number']\n",
    "        except:\n",
    "            df.loc[i].Владельцы = NaN\n",
    "        try:\n",
    "            df.loc[i].price = vehicle['price_info']['price']\n",
    "        except:\n",
    "            df.loc[i].price = NaN\n",
    "        try:\n",
    "            df.loc[i].priceCurrency = vehicle['price_info']['currency']\n",
    "        except:\n",
    "            df.loc[i].priceCurrency = NaN\n",
    "        try:\n",
    "            df.loc[i].ПТС = vehicle['documents']['pts']\n",
    "        except:\n",
    "            df.loc[i].ПТС = NaN\n",
    "        try:\n",
    "            df.loc[i].Руль = vehicle['vehicle_info']['steering_wheel']\n",
    "        except:\n",
    "            df.loc[i].Руль = NaN\n",
    "        try:\n",
    "            df.loc[i].price_USD = vehicle['price_info']['USD']\n",
    "        except:\n",
    "            df.loc[i].price_USD = NaN\n",
    "\n",
    "    return df"
   ]
  },
  {
   "cell_type": "code",
   "execution_count": 10,
   "metadata": {},
   "outputs": [],
   "source": [
    "def get_train(car_name):\n",
    "    '''Func to open each sraped Json it send it to get_df func'''\n",
    "    df = pd.DataFrame(data=None)\n",
    "    with open (f'data_{car_name}.json', 'r', encoding='utf8') as f:\n",
    "        data = json.load(f)\n",
    "    df = get_df(data)\n",
    "    return df"
   ]
  },
  {
   "cell_type": "code",
   "execution_count": 11,
   "metadata": {},
   "outputs": [
    {
     "ename": "FileNotFoundError",
     "evalue": "[Errno 2] No such file or directory: 'data_AUDI.json'",
     "output_type": "error",
     "traceback": [
      "\u001b[1;31m---------------------------------------------------------------------------\u001b[0m",
      "\u001b[1;31mFileNotFoundError\u001b[0m                         Traceback (most recent call last)",
      "\u001b[1;32m<ipython-input-11-8b9f0aaa734a>\u001b[0m in \u001b[0;36m<module>\u001b[1;34m\u001b[0m\n\u001b[0;32m      1\u001b[0m \u001b[1;31m# Make each car brands DF\u001b[0m\u001b[1;33m\u001b[0m\u001b[1;33m\u001b[0m\u001b[1;33m\u001b[0m\u001b[0m\n\u001b[1;32m----> 2\u001b[1;33m \u001b[0mAUDI\u001b[0m \u001b[1;33m=\u001b[0m \u001b[0mget_train\u001b[0m\u001b[1;33m(\u001b[0m\u001b[1;34m'AUDI'\u001b[0m\u001b[1;33m)\u001b[0m\u001b[1;33m\u001b[0m\u001b[1;33m\u001b[0m\u001b[0m\n\u001b[0m\u001b[0;32m      3\u001b[0m \u001b[0mBMW\u001b[0m \u001b[1;33m=\u001b[0m \u001b[0mget_train\u001b[0m\u001b[1;33m(\u001b[0m\u001b[1;34m'BMW'\u001b[0m\u001b[1;33m)\u001b[0m\u001b[1;33m\u001b[0m\u001b[1;33m\u001b[0m\u001b[0m\n\u001b[0;32m      4\u001b[0m \u001b[0mHONDA\u001b[0m \u001b[1;33m=\u001b[0m \u001b[0mget_train\u001b[0m\u001b[1;33m(\u001b[0m\u001b[1;34m'HONDA'\u001b[0m\u001b[1;33m)\u001b[0m\u001b[1;33m\u001b[0m\u001b[1;33m\u001b[0m\u001b[0m\n\u001b[0;32m      5\u001b[0m \u001b[0mINFINITI\u001b[0m \u001b[1;33m=\u001b[0m \u001b[0mget_train\u001b[0m\u001b[1;33m(\u001b[0m\u001b[1;34m'INFINITI'\u001b[0m\u001b[1;33m)\u001b[0m\u001b[1;33m\u001b[0m\u001b[1;33m\u001b[0m\u001b[0m\n",
      "\u001b[1;32m<ipython-input-10-9ef053290382>\u001b[0m in \u001b[0;36mget_train\u001b[1;34m(car_name)\u001b[0m\n\u001b[0;32m      2\u001b[0m     \u001b[1;34m'''Func to open each sraped Json it send it to get_df func'''\u001b[0m\u001b[1;33m\u001b[0m\u001b[1;33m\u001b[0m\u001b[0m\n\u001b[0;32m      3\u001b[0m     \u001b[0mdf\u001b[0m \u001b[1;33m=\u001b[0m \u001b[0mpd\u001b[0m\u001b[1;33m.\u001b[0m\u001b[0mDataFrame\u001b[0m\u001b[1;33m(\u001b[0m\u001b[0mdata\u001b[0m\u001b[1;33m=\u001b[0m\u001b[1;32mNone\u001b[0m\u001b[1;33m)\u001b[0m\u001b[1;33m\u001b[0m\u001b[1;33m\u001b[0m\u001b[0m\n\u001b[1;32m----> 4\u001b[1;33m     \u001b[1;32mwith\u001b[0m \u001b[0mopen\u001b[0m \u001b[1;33m(\u001b[0m\u001b[1;34mf'data_{car_name}.json'\u001b[0m\u001b[1;33m,\u001b[0m \u001b[1;34m'r'\u001b[0m\u001b[1;33m,\u001b[0m \u001b[0mencoding\u001b[0m\u001b[1;33m=\u001b[0m\u001b[1;34m'utf8'\u001b[0m\u001b[1;33m)\u001b[0m \u001b[1;32mas\u001b[0m \u001b[0mf\u001b[0m\u001b[1;33m:\u001b[0m\u001b[1;33m\u001b[0m\u001b[1;33m\u001b[0m\u001b[0m\n\u001b[0m\u001b[0;32m      5\u001b[0m         \u001b[0mdata\u001b[0m \u001b[1;33m=\u001b[0m \u001b[0mjson\u001b[0m\u001b[1;33m.\u001b[0m\u001b[0mload\u001b[0m\u001b[1;33m(\u001b[0m\u001b[0mf\u001b[0m\u001b[1;33m)\u001b[0m\u001b[1;33m\u001b[0m\u001b[1;33m\u001b[0m\u001b[0m\n\u001b[0;32m      6\u001b[0m     \u001b[0mdf\u001b[0m \u001b[1;33m=\u001b[0m \u001b[0mget_df\u001b[0m\u001b[1;33m(\u001b[0m\u001b[0mdata\u001b[0m\u001b[1;33m)\u001b[0m\u001b[1;33m\u001b[0m\u001b[1;33m\u001b[0m\u001b[0m\n",
      "\u001b[1;31mFileNotFoundError\u001b[0m: [Errno 2] No such file or directory: 'data_AUDI.json'"
     ]
    }
   ],
   "source": [
    "# Make each car brands DF\n",
    "AUDI = get_train('AUDI')\n",
    "BMW = get_train('BMW')\n",
    "HONDA = get_train('HONDA')\n",
    "INFINITI = get_train('INFINITI')\n",
    "LEXUS = get_train('LEXUS')\n",
    "MERCEDES = get_train('MERCEDES')\n",
    "MITSUBISHI = get_train('MITSUBISHI')\n",
    "NISSAN = get_train('NISSAN')\n",
    "SKODA = get_train('SKODA')\n",
    "TOYOTA = get_train('TOYOTA')\n",
    "VOLKSWAGEN = get_train('VOLKSWAGEN')\n",
    "FORD = get_train('FORD')\n",
    "HYUNDAI = get_train('HYUNDAI')\n",
    "KIA = get_train('KIA')\n",
    "VOLVO = get_train('VOLVO')\n",
    "MAZDA = get_train('MAZDA')\n",
    "# RENO = get_train('RENO')\n",
    "# Peugeot = get_train('Peugeot')"
   ]
  },
  {
   "cell_type": "code",
   "execution_count": null,
   "metadata": {},
   "outputs": [],
   "source": [
    "# Combine them\n",
    "df_list = [BMW,\n",
    "           VOLKSWAGEN,NISSAN,\n",
    "           MERCEDES,TOYOTA,AUDI,\n",
    "           MITSUBISHI,SKODA,VOLVO,\n",
    "           HONDA,INFINITI,LEXUS,\n",
    "           FORD,KIA,HYUNDAI,MAZDA,\n",
    "#            RENO,Peugeot\n",
    "          ]\n",
    "df = pd.concat(df_list, sort=False)"
   ]
  },
  {
   "cell_type": "code",
   "execution_count": null,
   "metadata": {},
   "outputs": [],
   "source": [
    "# Save to csv\n",
    "df.to_csv('train_parsed_24_05_21.csv', index = False)"
   ]
  },
  {
   "cell_type": "code",
   "execution_count": null,
   "metadata": {},
   "outputs": [],
   "source": [
    "# Read it\n",
    "df_train = pd.read_csv('train_parsed_24_05_21.csv')"
   ]
  },
  {
   "cell_type": "code",
   "execution_count": null,
   "metadata": {},
   "outputs": [],
   "source": [
    "# And drop duplicates\n",
    "df_train.duplicated(keep='first').sum()"
   ]
  },
  {
   "cell_type": "code",
   "execution_count": null,
   "metadata": {},
   "outputs": [],
   "source": [
    "df_train = df_train.drop_duplicates()"
   ]
  },
  {
   "cell_type": "code",
   "execution_count": null,
   "metadata": {},
   "outputs": [],
   "source": [
    "df_train.duplicated(keep='first').sum()"
   ]
  }
 ],
 "metadata": {
  "kernelspec": {
   "display_name": "Python 3",
   "language": "python",
   "name": "python3"
  },
  "language_info": {
   "codemirror_mode": {
    "name": "ipython",
    "version": 3
   },
   "file_extension": ".py",
   "mimetype": "text/x-python",
   "name": "python",
   "nbconvert_exporter": "python",
   "pygments_lexer": "ipython3",
   "version": "3.8.8"
  },
  "toc": {
   "base_numbering": 1,
   "nav_menu": {},
   "number_sections": true,
   "sideBar": true,
   "skip_h1_title": false,
   "title_cell": "Table of Contents",
   "title_sidebar": "Contents",
   "toc_cell": false,
   "toc_position": {
    "height": "calc(100% - 180px)",
    "left": "10px",
    "top": "150px",
    "width": "329.746px"
   },
   "toc_section_display": true,
   "toc_window_display": true
  },
  "varInspector": {
   "cols": {
    "lenName": 16,
    "lenType": 16,
    "lenVar": 40
   },
   "kernels_config": {
    "python": {
     "delete_cmd_postfix": "",
     "delete_cmd_prefix": "del ",
     "library": "var_list.py",
     "varRefreshCmd": "print(var_dic_list())"
    },
    "r": {
     "delete_cmd_postfix": ") ",
     "delete_cmd_prefix": "rm(",
     "library": "var_list.r",
     "varRefreshCmd": "cat(var_dic_list()) "
    }
   },
   "types_to_exclude": [
    "module",
    "function",
    "builtin_function_or_method",
    "instance",
    "_Feature"
   ],
   "window_display": false
  }
 },
 "nbformat": 4,
 "nbformat_minor": 4
}
